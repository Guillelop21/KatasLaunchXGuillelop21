{
 "cells": [
  {
   "cell_type": "markdown",
   "metadata": {},
   "source": [
    "# Ejercicio No. 1"
   ]
  },
  {
   "cell_type": "code",
   "execution_count": 12,
   "metadata": {},
   "outputs": [
    {
     "name": "stdout",
     "output_type": "stream",
     "text": [
      "['Interesting facts about the Moon', \" The Moon is Earth's only satellite\", ' There are several interesting facts about the Moon and how it affects life here on Earth', ' \\nOn average, the Moon moves 4cm away from the Earth every year', ' This yearly drift is not significant enough to cause immediate effects on Earth', ' The highest daylight temperature of the Moon is 127 C', '']\n",
      "Dato: Interesting facts about the Moon\n",
      "Dato:  The Moon is Earth's only satellite\n",
      "Dato:  There are several interesting facts about the Moon and how it affects life here on Earth\n",
      "Dato:  \n",
      "On average, the Moon moves 4cm away from the Earth every year\n",
      "Dato:  This yearly drift is not significant enough to cause immediate effects on Earth\n",
      "Dato:  The highest daylight temperature of the Moon is 127 C\n",
      "Dato: \n",
      " \n",
      "On average, the Moon moves 4cm away from the Earth every year\n",
      " The highest daylight temperature of the Moon is 127 Celsius\n"
     ]
    }
   ],
   "source": [
    "Texto = \"\"\"Interesting facts about the Moon. The Moon is Earth's only satellite. There are several interesting facts about the Moon and how it affects life here on Earth. \n",
    "On average, the Moon moves 4cm away from the Earth every year. This yearly drift is not significant enough to cause immediate effects on Earth. The highest daylight temperature of the Moon is 127 C.\"\"\"\n",
    "\n",
    "Separado = Texto.split('.')\n",
    "print(Separado)\n",
    "\n",
    "Palabras_Clave = [\"average\", \"temperature\", \"distance\"]\n",
    "\n",
    "for Datos in Separado:\n",
    "    for Palabra in Separado:\n",
    "        if Palabra in Datos:\n",
    "            print(\"Dato: \" + Datos)\n",
    "            break\n",
    "\n",
    "for Datos in Separado:\n",
    "    for Palabra in Palabras_Clave:\n",
    "        if Palabra in Datos:\n",
    "            print(Datos.replace(' C', ' Celsius'))\n",
    "            break"
   ]
  },
  {
   "cell_type": "markdown",
   "metadata": {},
   "source": [
    "# Ejercicio No. 2"
   ]
  },
  {
   "cell_type": "code",
   "execution_count": 13,
   "metadata": {},
   "outputs": [
    {
     "name": "stdout",
     "output_type": "stream",
     "text": [
      "-------------------------------------------------------------------------------- \n",
      "Nombre del planeta: Vegita \n",
      "Gravedad en Plant: 98.10000000000001 m/s2 \n",
      "\n",
      "-------------------------------------------------------------------------------- \n",
      "Nombre del planeta: Vegita \n",
      "Gravedad en Plant: 98.10000000000001 m/s2 \n",
      "\n",
      "\n",
      "Datos de Gravedad sobre: {nombre}\n",
      "-------------------------------------------------------------------------------\n",
      "Nombre del planeta: {planeta}\n",
      "Gravedad en {nombre}: {gravedad} m/s2\n",
      "\n",
      "\n",
      "Datos de Gravedad sobre: Plun-Darr\n",
      "-------------------------------------------------------------------------------\n",
      "Nombre del planeta: Thundera\n",
      "Gravedad en Plun-Darr: 8.7 m/s2\n",
      "\n"
     ]
    }
   ],
   "source": [
    "Nombre = \"Plant\"\n",
    "Gravedad = 0.0981\n",
    "Planeta = \"Vegita\"\n",
    "\n",
    "Titulo = f'Datos sobre la gravedad de {Nombre}'\n",
    "\n",
    "Plantilla = f\"\"\"{'-'*80} \n",
    "Nombre del planeta: {Planeta} \n",
    "Gravedad en {Nombre}: {Gravedad * 1000} m/s2 \n",
    "\"\"\"\n",
    "\n",
    "Union = f\"\"\"{Titulo.title()} \n",
    "{Plantilla} \n",
    "\"\"\" \n",
    "print(Plantilla)\n",
    "\n",
    "Nombre = \"Plun-Darr\"\n",
    "Gravedad = 0.0087\n",
    "Planeta = \"Thundera\"\n",
    "\n",
    "print(Plantilla)\n",
    "\n",
    "Nueva_Plantilla = \"\"\"\n",
    "Datos de Gravedad sobre: {nombre}\n",
    "-------------------------------------------------------------------------------\n",
    "Nombre del planeta: {planeta}\n",
    "Gravedad en {nombre}: {gravedad} m/s2\n",
    "\"\"\"\n",
    "print(Nueva_Plantilla)\n",
    "\n",
    "print(Nueva_Plantilla.format(nombre = Nombre, planeta = Planeta, gravedad = Gravedad*1000))"
   ]
  }
 ],
 "metadata": {
  "interpreter": {
   "hash": "f8f1d68a9534c010f2995be1fd3c393b90f23695c0f6e856f98585464fe820d5"
  },
  "kernelspec": {
   "display_name": "Python 3.10.2 64-bit (windows store)",
   "language": "python",
   "name": "python3"
  },
  "language_info": {
   "codemirror_mode": {
    "name": "ipython",
    "version": 3
   },
   "file_extension": ".py",
   "mimetype": "text/x-python",
   "name": "python",
   "nbconvert_exporter": "python",
   "pygments_lexer": "ipython3",
   "version": "3.10.2"
  },
  "orig_nbformat": 4
 },
 "nbformat": 4,
 "nbformat_minor": 2
}
