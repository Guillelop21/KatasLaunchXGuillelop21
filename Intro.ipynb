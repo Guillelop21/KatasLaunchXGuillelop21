{
 "cells": [
  {
   "cell_type": "markdown",
   "metadata": {},
   "source": [
    "## Variables\n",
    "Las variables se definen:\n",
    "*Tipo 'String'\n",
    "*Valor \n",
    "*Nombre 'Msg'"
   ]
  },
  {
   "cell_type": "code",
   "execution_count": 2,
   "metadata": {},
   "outputs": [
    {
     "name": "stdout",
     "output_type": "stream",
     "text": [
      "Hola Mundo\n"
     ]
    }
   ],
   "source": [
    "print('Hola Mundo')"
   ]
  },
  {
   "cell_type": "code",
   "execution_count": 3,
   "metadata": {},
   "outputs": [
    {
     "name": "stdout",
     "output_type": "stream",
     "text": [
      "Hola Mundo 2\n"
     ]
    }
   ],
   "source": [
    "msg = 'Hola Mundo 2'\n",
    "print(msg)"
   ]
  },
  {
   "cell_type": "markdown",
   "metadata": {},
   "source": [
    "## Programando Hotcakes"
   ]
  },
  {
   "cell_type": "code",
   "execution_count": 4,
   "metadata": {},
   "outputs": [],
   "source": [
    "Titulo = 'Programando hotcakes'\n",
    "\n",
    "Huevo = 3\n",
    "Leche = 1.5\n",
    "Mantequilla = 0.045\n",
    "Harina = 3\n",
    "CdaVainilla = 0.5\n",
    "\n",
    "# Asignamos los espacios en la memoria del programa para nuestros ingredientes\n"
   ]
  },
  {
   "cell_type": "code",
   "execution_count": 5,
   "metadata": {},
   "outputs": [
    {
     "name": "stdout",
     "output_type": "stream",
     "text": [
      "1.5\n",
      "Cantidad de leche: 1.5\n",
      "Cantidad de huevos: 3\n"
     ]
    }
   ],
   "source": [
    "print(Leche)\n",
    "print('Cantidad de leche: '+str(Leche) + '\\nCantidad de huevos: '+str(Huevo))"
   ]
  },
  {
   "cell_type": "code",
   "execution_count": 6,
   "metadata": {},
   "outputs": [],
   "source": [
    "# Reglas - Condiciones\n",
    "\n",
    "# Huevo = 3\n",
    "# Leche = 1.5\n",
    "# Mantequilla = 0.045\n",
    "# Harina = 3\n",
    "# CdaVainilla = 0.5\n",
    "\n",
    "if(Huevo > 4):\n",
    "    print('La cantida de huevos no es correcta')"
   ]
  }
 ],
 "metadata": {
  "interpreter": {
   "hash": "f8f1d68a9534c010f2995be1fd3c393b90f23695c0f6e856f98585464fe820d5"
  },
  "kernelspec": {
   "display_name": "Python 3.10.2 64-bit (windows store)",
   "language": "python",
   "name": "python3"
  },
  "language_info": {
   "codemirror_mode": {
    "name": "ipython",
    "version": 3
   },
   "file_extension": ".py",
   "mimetype": "text/x-python",
   "name": "python",
   "nbconvert_exporter": "python",
   "pygments_lexer": "ipython3",
   "version": "3.10.2"
  },
  "orig_nbformat": 4
 },
 "nbformat": 4,
 "nbformat_minor": 2
}
