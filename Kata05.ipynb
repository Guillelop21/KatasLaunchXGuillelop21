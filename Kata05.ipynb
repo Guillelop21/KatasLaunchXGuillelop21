{
 "cells": [
  {
   "cell_type": "markdown",
   "metadata": {},
   "source": [
    "# Ejercicio No. 1"
   ]
  },
  {
   "cell_type": "code",
   "execution_count": 3,
   "metadata": {},
   "outputs": [
    {
     "name": "stdout",
     "output_type": "stream",
     "text": [
      "Distancia en Kilometros: 628949330\n",
      "Distancia en Millas: 390577533.93\n"
     ]
    }
   ],
   "source": [
    "Planeta_1 = 149597870\n",
    "Planeta_2 = 778547200\n",
    "\n",
    "Distancia_km = Planeta_2 - Planeta_1\n",
    "Distancia_mi = Distancia_km * 0.621\n",
    "\n",
    "print('Distancia en Kilometros: ' + str(Distancia_km) + '\\nDistancia en Millas: ' + str(Distancia_mi))"
   ]
  },
  {
   "cell_type": "markdown",
   "metadata": {},
   "source": [
    "# Ejercicio No. 2"
   ]
  },
  {
   "cell_type": "code",
   "execution_count": 4,
   "metadata": {},
   "outputs": [
    {
     "name": "stdout",
     "output_type": "stream",
     "text": [
      "198198\n",
      "123080.958\n"
     ]
    }
   ],
   "source": [
    "Planeta_1 = input('Ingresa distancia del primer planeta (KM): ')\n",
    "Planeta_2 = input('Ingresa distancia del segundo planeta (KM): ')\n",
    "\n",
    "Planeta_1 = int(Planeta_1)\n",
    "Planeta_2 = int(Planeta_2)\n",
    "\n",
    "Distancia_km = Planeta_2 - Planeta_1\n",
    "print(Distancia_km)\n",
    "\n",
    "# Convertir de KM a Millas\n",
    "Distancia_mi = Distancia_km * 0.621\n",
    "print(abs(Distancia_mi))"
   ]
  }
 ],
 "metadata": {
  "interpreter": {
   "hash": "f8f1d68a9534c010f2995be1fd3c393b90f23695c0f6e856f98585464fe820d5"
  },
  "kernelspec": {
   "display_name": "Python 3.10.2 64-bit (windows store)",
   "language": "python",
   "name": "python3"
  },
  "language_info": {
   "codemirror_mode": {
    "name": "ipython",
    "version": 3
   },
   "file_extension": ".py",
   "mimetype": "text/x-python",
   "name": "python",
   "nbconvert_exporter": "python",
   "pygments_lexer": "ipython3",
   "version": "3.10.2"
  },
  "orig_nbformat": 4
 },
 "nbformat": 4,
 "nbformat_minor": 2
}
