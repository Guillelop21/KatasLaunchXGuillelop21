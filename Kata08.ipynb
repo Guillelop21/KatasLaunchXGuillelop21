{
 "cells": [
  {
   "cell_type": "markdown",
   "metadata": {},
   "source": [
    "# Ejercicio No 1"
   ]
  },
  {
   "cell_type": "code",
   "execution_count": 2,
   "metadata": {},
   "outputs": [
    {
     "name": "stdout",
     "output_type": "stream",
     "text": [
      "Marte tiene 2 lunas\n",
      "La circunferencia polar de Marte es de 6752 km\n"
     ]
    }
   ],
   "source": [
    "Planeta = {\n",
    "    'Nombre': 'Marte',\n",
    "    'Satelites': 2\n",
    "}\n",
    "\n",
    "print(f'{Planeta[\"Nombre\"]} tiene {Planeta[\"Satelites\"]} lunas')\n",
    "\n",
    "Planeta['Circunferencia'] = {\n",
    "    'Polar': 6752,\n",
    "    'Ecuatorial': 6792\n",
    "}\n",
    "\n",
    "print(f'La circunferencia polar de {Planeta[\"Nombre\"]} es de {Planeta[\"Circunferencia\"][\"Polar\"]} km')"
   ]
  },
  {
   "cell_type": "markdown",
   "metadata": {},
   "source": [
    "# Ejercicio No 2"
   ]
  },
  {
   "cell_type": "code",
   "execution_count": 3,
   "metadata": {},
   "outputs": [
    {
     "name": "stdout",
     "output_type": "stream",
     "text": [
      "17.833333333333332\n"
     ]
    }
   ],
   "source": [
    "Satelites = {\n",
    "    'Mercurio': 0,\n",
    "    'Venus': 0,\n",
    "    'Tierra': 1,\n",
    "    'Marte': 2,\n",
    "    'Jupiter': 79,\n",
    "    'Saturno': 82,\n",
    "    'Urano': 27,\n",
    "    'Neptuno': 14,\n",
    "    'Pluton': 5,\n",
    "    'Haumea': 2,\n",
    "    'Makemake': 1,\n",
    "    'Eris': 1\n",
    "}\n",
    "\n",
    "Lunas = Satelites.values()\n",
    "Planetas = len(Satelites.keys())\n",
    "\n",
    "CantidadLunas = 0\n",
    "for Luna in Lunas:\n",
    "    CantidadLunas = CantidadLunas + Luna\n",
    "\n",
    "PromedioLuna = CantidadLunas / Planetas\n",
    "print(PromedioLuna)"
   ]
  }
 ],
 "metadata": {
  "interpreter": {
   "hash": "f8f1d68a9534c010f2995be1fd3c393b90f23695c0f6e856f98585464fe820d5"
  },
  "kernelspec": {
   "display_name": "Python 3.10.2 64-bit (windows store)",
   "language": "python",
   "name": "python3"
  },
  "language_info": {
   "codemirror_mode": {
    "name": "ipython",
    "version": 3
   },
   "file_extension": ".py",
   "mimetype": "text/x-python",
   "name": "python",
   "nbconvert_exporter": "python",
   "pygments_lexer": "ipython3",
   "version": "3.10.2"
  },
  "orig_nbformat": 4
 },
 "nbformat": 4,
 "nbformat_minor": 2
}
