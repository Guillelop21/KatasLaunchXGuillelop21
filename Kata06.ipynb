{
 "cells": [
  {
   "cell_type": "markdown",
   "metadata": {},
   "source": [
    "# Ejercicio No 1"
   ]
  },
  {
   "cell_type": "code",
   "execution_count": 7,
   "metadata": {},
   "outputs": [
    {
     "name": "stdout",
     "output_type": "stream",
     "text": [
      "Hay  8  planetas en el sistema solar\n",
      "Pluton  es el ultimo planeta, pero no vale\n"
     ]
    }
   ],
   "source": [
    "Planetas = ['Mercurio', 'Venus', 'Tierra', 'Marte', 'Jupiter', 'Saturno', 'Urano', 'Neptuno']\n",
    "\n",
    "print('Hay ', len(Planetas), ' planetas en el sistema solar')\n",
    "\n",
    "Planetas.append('Pluton')\n",
    "\n",
    "print(Planetas[-1], ' es el ultimo planeta, pero no vale')\n"
   ]
  },
  {
   "cell_type": "markdown",
   "metadata": {},
   "source": [
    "# Ejercicio No 2"
   ]
  },
  {
   "cell_type": "code",
   "execution_count": 8,
   "metadata": {},
   "outputs": [
    {
     "name": "stdout",
     "output_type": "stream",
     "text": [
      "El planeta mas lejano del Sol es: Oa\n",
      "Estos son los planetas mas lejanos que: Arrakis\n",
      "['Tatooine', 'Vulcano', 'Pandora', 'Thundera', 'Oa']\n"
     ]
    }
   ],
   "source": [
    "Planetas = ['Namek', 'Krypton', 'Arrakis', 'Tatooine', 'Vulcano', 'Pandora', 'Thundera', 'Oa']\n",
    "\n",
    "IngresaPlaneta = input('Ingrese el nombre de un planeta (Primer letra mayuscula): ')\n",
    "\n",
    "QuePlaneta = Planetas.index(IngresaPlaneta)\n",
    "\n",
    "print('El planeta mas lejano del Sol es: ' + Planetas[-1])\n",
    "print('Estos son los planetas mas lejanos que: ' + IngresaPlaneta)\n",
    "print(Planetas[QuePlaneta + 1:])"
   ]
  }
 ],
 "metadata": {
  "interpreter": {
   "hash": "f8f1d68a9534c010f2995be1fd3c393b90f23695c0f6e856f98585464fe820d5"
  },
  "kernelspec": {
   "display_name": "Python 3.10.2 64-bit (windows store)",
   "language": "python",
   "name": "python3"
  },
  "language_info": {
   "codemirror_mode": {
    "name": "ipython",
    "version": 3
   },
   "file_extension": ".py",
   "mimetype": "text/x-python",
   "name": "python",
   "nbconvert_exporter": "python",
   "pygments_lexer": "ipython3",
   "version": "3.10.2"
  },
  "orig_nbformat": 4
 },
 "nbformat": 4,
 "nbformat_minor": 2
}
