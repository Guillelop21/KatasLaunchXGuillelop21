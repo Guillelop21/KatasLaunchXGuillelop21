{
 "cells": [
  {
   "cell_type": "markdown",
   "metadata": {},
   "source": [
    "# Ejercicio No 1"
   ]
  },
  {
   "cell_type": "code",
   "execution_count": 4,
   "metadata": {},
   "outputs": [
    {
     "name": "stdout",
     "output_type": "stream",
     "text": [
      "Reporte de Combustible:\n",
      "    Promedio: 40.666666666666664%\n",
      "    Tanque 1: 9%\n",
      "    Tanque 2: 21%\n",
      "    Tanque 3: 92% \n",
      "    \n",
      "Reporte de Combustible:\n",
      "    Promedio: 55.666666666666664%\n",
      "    Tanque 1: 65%\n",
      "    Tanque 2: 22%\n",
      "    Tanque 3: 80% \n",
      "    \n"
     ]
    }
   ],
   "source": [
    "def Informe(Tanque1, Tanque2, Tanque3):\n",
    "    Promedio = (Tanque1 + Tanque2 + Tanque3) / 3\n",
    "    return f\"\"\"Reporte de Combustible:\n",
    "    Promedio: {Promedio}%\n",
    "    Tanque 1: {Tanque1}%\n",
    "    Tanque 2: {Tanque2}%\n",
    "    Tanque 3: {Tanque3}% \n",
    "    \"\"\"\n",
    "\n",
    "print(Informe(9, 21, 92))\n",
    "\n",
    "def Prom(Valores):\n",
    "    Total = sum(Valores)\n",
    "    Tanques = len(Valores)\n",
    "    return Total / Tanques\n",
    "\n",
    "Prom([60, 70, 90]) \n",
    "\n",
    "def Informe(Tanque1, Tanque2, Tanque3):\n",
    "    return f\"\"\"Reporte de Combustible:\n",
    "    Promedio: {Prom([Tanque1, Tanque2, Tanque3])}%\n",
    "    Tanque 1: {Tanque1}%\n",
    "    Tanque 2: {Tanque2}%\n",
    "    Tanque 3: {Tanque3}% \n",
    "    \"\"\"\n",
    "\n",
    "print(Informe(65, 22, 80))\n",
    "    "
   ]
  },
  {
   "cell_type": "markdown",
   "metadata": {},
   "source": [
    "# Ejercicio No 2"
   ]
  },
  {
   "cell_type": "code",
   "execution_count": 5,
   "metadata": {},
   "outputs": [
    {
     "name": "stdout",
     "output_type": "stream",
     "text": [
      "\n",
      "    Mission con rumbo a Namek\n",
      "    Tiempo estimado de la mision: 200 minutos\n",
      "    Combustible disponible: 500000 litros\n",
      "    \n",
      "\n",
      "    Mission con rumbo a Krypton\n",
      "    Tiempo estimado de la mision: 370 minutos\n",
      "    Combustible disponible: 386000 litros\n",
      "    \n",
      "\n",
      "    Mission con rumbo a Tatooine\n",
      "    Tiempo estimado de la mision: 150 minutos\n",
      "    Combustible disponible: 70000 litros\n",
      "    Tanque Externo contiene: 20000 litros disponibles\n",
      "Tanque Interno contiene: 50000 litros disponibles\n",
      "\n"
     ]
    }
   ],
   "source": [
    "def Informe_Mision(Hora_Prelanzamiento, Tiempo_Vuelo, Destino, Tanque_Externo, Tanque_Interno):\n",
    "    return f\"\"\"\n",
    "    Mission con rumbo a {Destino}\n",
    "    Tiempo estimado de la mision: {Hora_Prelanzamiento + Tiempo_Vuelo} minutos\n",
    "    Combustible disponible: {Tanque_Externo + Tanque_Interno} litros\n",
    "    \"\"\"\n",
    "print(Informe_Mision(20, 180, \"Namek\", 200000, 300000))\n",
    "\n",
    "def Informe_Mision(Destino, *Minutos, **Combustible):\n",
    "    return f\"\"\"\n",
    "    Mission con rumbo a {Destino}\n",
    "    Tiempo estimado de la mision: {sum(Minutos)} minutos\n",
    "    Combustible disponible: {sum(Combustible.values())} litros\n",
    "    \"\"\"\n",
    "print(Informe_Mision(\"Krypton\", 50, 320, Externo = 150000, Interno = 236000))\n",
    "\n",
    "def Informe_Mision(Destino, *Minutos, **Combustible):\n",
    "    ReporteTanques = f\"\"\"\n",
    "    Mission con rumbo a {Destino}\n",
    "    Tiempo estimado de la mision: {sum(Minutos)} minutos\n",
    "    Combustible disponible: {sum(Combustible.values())} litros\n",
    "    \"\"\"\n",
    "    for Tanque, Litros in Combustible.items():\n",
    "        ReporteTanques += f\"Tanque {Tanque} contiene: {Litros} litros disponibles\\n\"\n",
    "    return ReporteTanques\n",
    "print(Informe_Mision(\"Tatooine\", 10, 140, Externo = 20000, Interno = 50000))\n"
   ]
  }
 ],
 "metadata": {
  "interpreter": {
   "hash": "f8f1d68a9534c010f2995be1fd3c393b90f23695c0f6e856f98585464fe820d5"
  },
  "kernelspec": {
   "display_name": "Python 3.10.2 64-bit (windows store)",
   "language": "python",
   "name": "python3"
  },
  "language_info": {
   "codemirror_mode": {
    "name": "ipython",
    "version": 3
   },
   "file_extension": ".py",
   "mimetype": "text/x-python",
   "name": "python",
   "nbconvert_exporter": "python",
   "pygments_lexer": "ipython3",
   "version": "3.10.2"
  },
  "orig_nbformat": 4
 },
 "nbformat": 4,
 "nbformat_minor": 2
}
