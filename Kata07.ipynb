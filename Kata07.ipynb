{
 "cells": [
  {
   "cell_type": "markdown",
   "metadata": {},
   "source": [
    "# Ejercicio No 1"
   ]
  },
  {
   "cell_type": "code",
   "execution_count": 2,
   "metadata": {},
   "outputs": [],
   "source": [
    "Nuevo_Planeta = ''\n",
    "Planetas = []\n",
    "\n",
    "while Nuevo_Planeta.lower() != 'listo':\n",
    "    if Nuevo_Planeta:\n",
    "        Planetas.append(Nuevo_Planeta)\n",
    "    Nuevo_Planeta = input('Ingrese un Planeta ')\n"
   ]
  },
  {
   "cell_type": "markdown",
   "metadata": {},
   "source": [
    "# Ejercicio No 2"
   ]
  },
  {
   "cell_type": "code",
   "execution_count": 3,
   "metadata": {},
   "outputs": [
    {
     "name": "stdout",
     "output_type": "stream",
     "text": [
      "Oa\n",
      "Krypton\n",
      "Arrakis\n",
      "Tatooine\n",
      "Vulcano\n"
     ]
    }
   ],
   "source": [
    "for Planeta in Planetas:\n",
    "    print(Planeta)"
   ]
  }
 ],
 "metadata": {
  "interpreter": {
   "hash": "f8f1d68a9534c010f2995be1fd3c393b90f23695c0f6e856f98585464fe820d5"
  },
  "kernelspec": {
   "display_name": "Python 3.10.2 64-bit (windows store)",
   "language": "python",
   "name": "python3"
  },
  "language_info": {
   "codemirror_mode": {
    "name": "ipython",
    "version": 3
   },
   "file_extension": ".py",
   "mimetype": "text/x-python",
   "name": "python",
   "nbconvert_exporter": "python",
   "pygments_lexer": "ipython3",
   "version": "3.10.2"
  },
  "orig_nbformat": 4
 },
 "nbformat": 4,
 "nbformat_minor": 2
}
